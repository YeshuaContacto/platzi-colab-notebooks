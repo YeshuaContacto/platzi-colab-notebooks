{
  "nbformat": 4,
  "nbformat_minor": 0,
  "metadata": {
    "colab": {
      "provenance": [],
      "authorship_tag": "ABX9TyN15y4UGKAi0ITPmZ1f9swQ",
      "include_colab_link": true
    },
    "kernelspec": {
      "name": "python3",
      "display_name": "Python 3"
    },
    "language_info": {
      "name": "python"
    }
  },
  "cells": [
    {
      "cell_type": "markdown",
      "metadata": {
        "id": "view-in-github",
        "colab_type": "text"
      },
      "source": [
        "<a href=\"https://colab.research.google.com/github/YeshuaContacto/platzi-colab-notebooks/blob/main/Dataframes_en_Pandas.ipynb\" target=\"_parent\"><img src=\"https://colab.research.google.com/assets/colab-badge.svg\" alt=\"Open In Colab\"/></a>"
      ]
    },
    {
      "cell_type": "markdown",
      "source": [
        "## **Creación de dataframes en pandas**\n",
        "Un DataFrame es una estructura de datos muy utilizada en el análisis de datos, especialmente en el lenguaje de programación Python mediante la biblioteca pandas. Es similar a una tabla en una base de datos o a una hoja de cálculo de Excel, ya que organiza la información en filas y columnas.\n",
        "\n",
        "\n"
      ],
      "metadata": {
        "id": "yFvayRxe8cYV"
      }
    },
    {
      "cell_type": "code",
      "source": [
        "import pandas as pd\n",
        "\n",
        "file_path = '/content/online_retail.csv'\n",
        "sales_data = pd.read_csv(file_path)\n",
        "print(sales_data.head())"
      ],
      "metadata": {
        "colab": {
          "base_uri": "https://localhost:8080/"
        },
        "id": "eTx0hIpn8mDB",
        "outputId": "0ac1273e-ab9f-443d-81f5-f26736b320ac"
      },
      "execution_count": null,
      "outputs": [
        {
          "output_type": "stream",
          "name": "stdout",
          "text": [
            "  InvoiceNo StockCode                          Description  Quantity  \\\n",
            "0    536365    85123A   WHITE HANGING HEART T-LIGHT HOLDER         6   \n",
            "1    536365     71053                  WHITE METAL LANTERN         6   \n",
            "2    536365    84406B       CREAM CUPID HEARTS COAT HANGER         8   \n",
            "3    536365    84029G  KNITTED UNION FLAG HOT WATER BOTTLE         6   \n",
            "4    536365    84029E       RED WOOLLY HOTTIE WHITE HEART.         6   \n",
            "\n",
            "           InvoiceDate  UnitPrice  CustomerID         Country  \n",
            "0  2010-12-01 08:26:00       2.55     17850.0  United Kingdom  \n",
            "1  2010-12-01 08:26:00       3.39     17850.0  United Kingdom  \n",
            "2  2010-12-01 08:26:00       2.75     17850.0  United Kingdom  \n",
            "3  2010-12-01 08:26:00       3.39     17850.0  United Kingdom  \n",
            "4  2010-12-01 08:26:00       3.39     17850.0  United Kingdom  \n"
          ]
        }
      ]
    },
    {
      "cell_type": "code",
      "source": [
        "#DataFrame desde un array\n",
        "import numpy as np\n",
        "\n",
        "data = np.array([[1,2,3], [4,5,6], [7,8,9]])\n",
        "\n",
        "dt_from_array = pd.DataFrame(data, columns=['A', 'B', 'C'])\n",
        "print(dt_from_array)"
      ],
      "metadata": {
        "colab": {
          "base_uri": "https://localhost:8080/"
        },
        "id": "OYlJJTRC93Z1",
        "outputId": "1deba4db-1e7b-4cd6-df84-8c0a084864a7"
      },
      "execution_count": null,
      "outputs": [
        {
          "output_type": "stream",
          "name": "stdout",
          "text": [
            "   A  B  C\n",
            "0  1  2  3\n",
            "1  4  5  6\n",
            "2  7  8  9\n"
          ]
        }
      ]
    },
    {
      "cell_type": "code",
      "source": [
        "#DataFrame desde una lista\n",
        "data = [[1, 'Jhon', 22], [2, 'Ana', 24]]\n",
        "\n",
        "dt_from_list = pd.DataFrame(data, columns = ['ID', 'Name', 'Age'])\n",
        "print(dt_from_list)"
      ],
      "metadata": {
        "colab": {
          "base_uri": "https://localhost:8080/"
        },
        "id": "-jfH1GJy-UP1",
        "outputId": "01e35ffe-37f9-4f73-8a12-1f25a4844418"
      },
      "execution_count": null,
      "outputs": [
        {
          "output_type": "stream",
          "name": "stdout",
          "text": [
            "   ID  Name  Age\n",
            "0   1  Jhon   22\n",
            "1   2   Ana   24\n"
          ]
        }
      ]
    },
    {
      "cell_type": "code",
      "source": [
        "#DataFrame desde un diccionario\n",
        "data = [{'ID': 1,\n",
        "         'Name': 'John',\n",
        "         'Age': 22},\n",
        "        {'ID': 2,\n",
        "           'Name': 'Ana',\n",
        "           'Age': 24}]\n",
        "\n",
        "dt_from_dict_list = pd.DataFrame(data)\n",
        "print(dt_from_dict_list)"
      ],
      "metadata": {
        "colab": {
          "base_uri": "https://localhost:8080/"
        },
        "id": "P461Z06U_RRB",
        "outputId": "4484945b-7ce0-4506-b211-ae21b6b1e80b"
      },
      "execution_count": null,
      "outputs": [
        {
          "output_type": "stream",
          "name": "stdout",
          "text": [
            "   ID  Name  Age\n",
            "0   1  John   22\n",
            "1   2   Ana   24\n"
          ]
        }
      ]
    },
    {
      "cell_type": "code",
      "source": [
        "#DataFrame desde un diccionario con una lista en cada clave\n",
        "data = {'ID': [1,2,3],\n",
        "        'Name': ['John', 'Ana', 'Mike'],\n",
        "        'Age': [22,24,21]}\n",
        "\n",
        "dt_from_dict = pd.DataFrame(data)\n",
        "print(dt_from_dict)"
      ],
      "metadata": {
        "colab": {
          "base_uri": "https://localhost:8080/"
        },
        "id": "v62hylItBssy",
        "outputId": "7a1aca51-4634-4264-a500-1916049afd85"
      },
      "execution_count": null,
      "outputs": [
        {
          "output_type": "stream",
          "name": "stdout",
          "text": [
            "   ID  Name  Age\n",
            "0   1  John   22\n",
            "1   2   Ana   24\n",
            "2   3  Mike   21\n"
          ]
        }
      ]
    },
    {
      "cell_type": "markdown",
      "source": [
        "## **Descomponer un DataFrame en una serie**\n",
        "# Serie en pandas (`pd.Series`)\n",
        "\n",
        "Una **Serie** en pandas (`pd.Series`) es una estructura de datos unidimensional, similar a una columna en una tabla o a un array de una sola dimensión. Cada elemento en una Serie tiene un valor y un índice asociado, lo que permite un acceso rápido y manipulación eficiente.\n",
        "\n",
        "## Características principales de una Serie\n",
        "1. **Unidimensional**: Una Serie es como una lista o array, pero con la ventaja de que cada elemento tiene un índice asociado.\n",
        "2. **Etiquetas en los índices**: El índice es una etiqueta única para cada elemento de la Serie. Si no se especifica, pandas asigna índices numéricos por defecto comenzando desde 0.\n",
        "3. **Soporte para diferentes tipos de datos**: Una Serie puede contener cualquier tipo de dato, como números, texto, fechas, etc.\n",
        "4. **Operaciones eficientes**: Permite realizar operaciones rápidas y vectorizadas sobre los datos.\n",
        "\n",
        "## Usos de una Serie\n",
        "- **Almacenar datos unidimensionales**: Es útil para trabajar con listas de valores que necesitan etiquetas o índices.\n",
        "- **Acceso por índice**: Los datos pueden ser accedidos y manipulados fácilmente usando los índices.\n",
        "- **Operaciones aritméticas**: Se pueden realizar operaciones matemáticas y estadísticas de forma eficiente.\n",
        "\n",
        "## Ejemplo de creación de una Serie\n",
        "```python\n",
        "import pandas as pd\n",
        "\n",
        "# Crear una Serie a partir de una lista\n",
        "data = [10, 20, 30, 40]\n",
        "serie = pd.Series(data)\n",
        "print(serie)\n"
      ],
      "metadata": {
        "id": "WjQ_hX-TDE7i"
      }
    },
    {
      "cell_type": "code",
      "source": [
        "#Desde un diccionario que tiene series\n",
        "data = {'ID': pd.Series([1,2,3]),\n",
        "        'Name': pd.Series(['John', 'Ana', 'Mike']),\n",
        "        'Age': pd.Series([22,24,21])}\n",
        "\n",
        "dt_from_series_dict = pd.DataFrame(data)\n",
        "print(dt_from_series_dict)"
      ],
      "metadata": {
        "colab": {
          "base_uri": "https://localhost:8080/"
        },
        "id": "u3FeMCP0DSJV",
        "outputId": "74e62fde-cadb-48fc-c71e-45b57ce57c93"
      },
      "execution_count": null,
      "outputs": [
        {
          "output_type": "stream",
          "name": "stdout",
          "text": [
            "   ID  Name  Age\n",
            "0   1  John   22\n",
            "1   2   Ana   24\n",
            "2   3  Mike   21\n"
          ]
        }
      ]
    }
  ]
}