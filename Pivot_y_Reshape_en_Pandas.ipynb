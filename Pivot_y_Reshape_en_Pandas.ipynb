{
  "nbformat": 4,
  "nbformat_minor": 0,
  "metadata": {
    "colab": {
      "provenance": [],
      "authorship_tag": "ABX9TyMaEgj/gijK2IGGsCu4FQsb",
      "include_colab_link": true
    },
    "kernelspec": {
      "name": "python3",
      "display_name": "Python 3"
    },
    "language_info": {
      "name": "python"
    }
  },
  "cells": [
    {
      "cell_type": "markdown",
      "metadata": {
        "id": "view-in-github",
        "colab_type": "text"
      },
      "source": [
        "<a href=\"https://colab.research.google.com/github/YeshuaContacto/platzi-colab-notebooks/blob/main/Pivot_y_Reshape_en_Pandas.ipynb\" target=\"_parent\"><img src=\"https://colab.research.google.com/assets/colab-badge.svg\" alt=\"Open In Colab\"/></a>"
      ]
    },
    {
      "cell_type": "markdown",
      "source": [
        "# **Pivot y Reshape en Pandas**"
      ],
      "metadata": {
        "id": "wapn0hMQ-KzH"
      }
    },
    {
      "cell_type": "code",
      "source": [
        "import pandas as pd\n",
        "\n",
        "#Leer el dataset de ventas desde un archivo CSV\n",
        "file_path = \"/content/online_retail.csv\"\n",
        "sales_data = pd.read_csv(file_path)\n",
        "\n",
        "#Covertir la columna 'InvoiceData' a tipo datetime\n",
        "sales_data['InvoiceDate'] = pd.to_datetime(sales_data['InvoiceDate'])\n",
        "\n",
        "#Eliminar filas con valores faltantes en las columnas criticas\n",
        "sales_data.dropna(subset=['CustomerID', 'InvoiceDate'], inplace=True)\n",
        "\n",
        "#Crear una nueva columna 'TotalPrice'\n",
        "sales_data['TotalPrice'] = sales_data['Quantity'] * sales_data['UnitPrice']"
      ],
      "metadata": {
        "id": "94bYFf4S-Mnt"
      },
      "execution_count": null,
      "outputs": []
    },
    {
      "cell_type": "code",
      "source": [
        "pivot_table = pd.pivot_table(sales_data, values = 'Quantity', index = 'Country',\n",
        "                             columns = 'StockCode', aggfunc ='sum')\n",
        "\n",
        "print(pivot_table)"
      ],
      "metadata": {
        "colab": {
          "base_uri": "https://localhost:8080/"
        },
        "collapsed": true,
        "id": "VvYSL_gL-qPh",
        "outputId": "fc43bf57-3774-4088-865b-7a8140cdf15e"
      },
      "execution_count": null,
      "outputs": [
        {
          "output_type": "stream",
          "name": "stdout",
          "text": [
            "StockCode             10002  10080  10120  10123C  10124A  10124G  10125  \\\n",
            "Country                                                                    \n",
            "Australia               NaN    NaN    NaN     NaN     NaN     NaN    NaN   \n",
            "Austria                 NaN    NaN    NaN     NaN     NaN     NaN    NaN   \n",
            "Bahrain                 NaN    NaN    NaN     NaN     NaN     NaN    NaN   \n",
            "Belgium                 NaN    NaN    NaN     NaN     NaN     NaN    NaN   \n",
            "Brazil                  NaN    NaN    NaN     NaN     NaN     NaN    NaN   \n",
            "Canada                  NaN    NaN    NaN     NaN     NaN     NaN    NaN   \n",
            "Channel Islands         NaN    NaN    NaN     NaN     NaN     NaN    NaN   \n",
            "Cyprus                  NaN    NaN    NaN     NaN     NaN     NaN    NaN   \n",
            "Czech Republic          NaN    NaN    NaN     NaN     NaN     NaN    NaN   \n",
            "Denmark                 NaN    NaN    NaN     NaN     NaN     NaN    NaN   \n",
            "EIRE                   12.0    NaN    NaN     NaN     NaN     NaN    NaN   \n",
            "European Community      NaN    NaN    NaN     NaN     NaN     NaN    NaN   \n",
            "Finland                 NaN    NaN    NaN     NaN     NaN     NaN    NaN   \n",
            "France                372.0    NaN   10.0     NaN     NaN     NaN  470.0   \n",
            "Germany                 1.0    NaN    NaN     NaN     NaN     NaN  120.0   \n",
            "Greece                  NaN    NaN    NaN     NaN     NaN     NaN    NaN   \n",
            "Iceland                 NaN    NaN    NaN     NaN     NaN     NaN    NaN   \n",
            "Israel                  NaN    NaN    NaN     NaN     NaN     NaN    NaN   \n",
            "Italy                   NaN    NaN    NaN     NaN     NaN     NaN    NaN   \n",
            "Japan                   1.0    NaN    NaN     NaN     NaN     NaN    NaN   \n",
            "Lebanon                 NaN    NaN    NaN     NaN     NaN     NaN    NaN   \n",
            "Lithuania               NaN    NaN    NaN     NaN     NaN     NaN    NaN   \n",
            "Malta                   NaN    NaN    NaN     NaN     NaN     NaN    NaN   \n",
            "Netherlands             NaN    NaN    NaN     NaN     NaN     NaN    NaN   \n",
            "Norway                  NaN    NaN    NaN     NaN     NaN     NaN    NaN   \n",
            "Poland                  NaN    NaN    NaN     NaN     NaN     NaN    NaN   \n",
            "Portugal                NaN    NaN    NaN     NaN     NaN     NaN    NaN   \n",
            "RSA                     NaN    NaN    NaN     NaN     NaN     NaN    NaN   \n",
            "Saudi Arabia            NaN    NaN    NaN     NaN     NaN     NaN    NaN   \n",
            "Singapore               NaN    NaN    NaN     NaN     NaN     NaN    NaN   \n",
            "Spain                  24.0    NaN    NaN     NaN     NaN     NaN    NaN   \n",
            "Sweden                  NaN    NaN    NaN     NaN     NaN     NaN    NaN   \n",
            "Switzerland            12.0    NaN    NaN     NaN     NaN     NaN   20.0   \n",
            "USA                     NaN    NaN    NaN     NaN     NaN     NaN    NaN   \n",
            "United Arab Emirates    NaN    NaN    NaN     NaN     NaN     NaN    NaN   \n",
            "United Kingdom        401.0  291.0  183.0     5.0    16.0    17.0  616.0   \n",
            "Unspecified             NaN    NaN    NaN     NaN     NaN     NaN    NaN   \n",
            "\n",
            "StockCode              10133   10135  11001  ...  90214Y  90214Z  \\\n",
            "Country                                      ...                   \n",
            "Australia                NaN     NaN    NaN  ...     NaN     NaN   \n",
            "Austria                  NaN     NaN    NaN  ...     NaN     NaN   \n",
            "Bahrain                  NaN     NaN    NaN  ...     NaN     NaN   \n",
            "Belgium                  NaN     NaN    NaN  ...     NaN     NaN   \n",
            "Brazil                   NaN     NaN    NaN  ...     NaN     NaN   \n",
            "Canada                  40.0    20.0    NaN  ...     NaN     NaN   \n",
            "Channel Islands          NaN     NaN    NaN  ...     NaN     NaN   \n",
            "Cyprus                   NaN     NaN    NaN  ...     NaN     NaN   \n",
            "Czech Republic           NaN     NaN    NaN  ...     NaN     NaN   \n",
            "Denmark                  NaN     NaN    NaN  ...     NaN     NaN   \n",
            "EIRE                    40.0    60.0   48.0  ...     NaN     NaN   \n",
            "European Community       NaN     NaN    NaN  ...     NaN     NaN   \n",
            "Finland                  NaN     NaN    NaN  ...     NaN     NaN   \n",
            "France                   NaN    10.0   16.0  ...     NaN     NaN   \n",
            "Germany                  NaN   200.0   32.0  ...     NaN     NaN   \n",
            "Greece                   NaN     NaN    NaN  ...     NaN     NaN   \n",
            "Iceland                  NaN     NaN    NaN  ...     NaN     NaN   \n",
            "Israel                  20.0     NaN    NaN  ...     NaN     NaN   \n",
            "Italy                    NaN     NaN    NaN  ...     NaN     NaN   \n",
            "Japan                    NaN     NaN    NaN  ...     NaN     NaN   \n",
            "Lebanon                  NaN     NaN    NaN  ...     NaN     NaN   \n",
            "Lithuania                NaN     NaN    NaN  ...     NaN     NaN   \n",
            "Malta                    NaN     NaN    NaN  ...     NaN     NaN   \n",
            "Netherlands              NaN     NaN    NaN  ...     NaN     NaN   \n",
            "Norway                   NaN    10.0   16.0  ...     NaN     NaN   \n",
            "Poland                   NaN     NaN    NaN  ...     NaN     NaN   \n",
            "Portugal                20.0     NaN   16.0  ...     NaN     NaN   \n",
            "RSA                      NaN     NaN    NaN  ...     NaN     NaN   \n",
            "Saudi Arabia             NaN     NaN    NaN  ...     NaN     NaN   \n",
            "Singapore                NaN     NaN    NaN  ...     NaN     NaN   \n",
            "Spain                    NaN     NaN   16.0  ...     NaN     NaN   \n",
            "Sweden                   NaN     NaN    NaN  ...     NaN     NaN   \n",
            "Switzerland             10.0     NaN    NaN  ...     NaN     NaN   \n",
            "USA                      NaN     NaN    NaN  ...     NaN     NaN   \n",
            "United Arab Emirates     NaN     NaN    NaN  ...     NaN     NaN   \n",
            "United Kingdom        2244.0  1637.0  923.0  ...    61.0    12.0   \n",
            "Unspecified              NaN     NaN    NaN  ...     NaN     NaN   \n",
            "\n",
            "StockCode             BANK CHARGES    C2  CRUK       D   DOT       M  PADS  \\\n",
            "Country                                                                      \n",
            "Australia                      NaN   NaN   NaN     NaN   NaN     NaN   NaN   \n",
            "Austria                        NaN   NaN   NaN     NaN   NaN     NaN   NaN   \n",
            "Bahrain                        NaN   NaN   NaN     NaN   NaN     NaN   NaN   \n",
            "Belgium                        NaN   NaN   NaN     NaN   NaN     NaN   NaN   \n",
            "Brazil                         NaN   NaN   NaN     NaN   NaN     NaN   NaN   \n",
            "Canada                         NaN   NaN   NaN     NaN   NaN     NaN   NaN   \n",
            "Channel Islands                NaN   3.0   NaN     NaN   NaN     0.0   NaN   \n",
            "Cyprus                         NaN   NaN   NaN     NaN   NaN     0.0   NaN   \n",
            "Czech Republic                 NaN   NaN   NaN     NaN   NaN     NaN   NaN   \n",
            "Denmark                        NaN   NaN   NaN     NaN   NaN     NaN   NaN   \n",
            "EIRE                           NaN  97.0   NaN    -1.0   NaN    -1.0   NaN   \n",
            "European Community             NaN   NaN   NaN     NaN   NaN     NaN   NaN   \n",
            "Finland                        NaN   NaN   NaN     NaN   NaN     2.0   NaN   \n",
            "France                         NaN   3.0   NaN     NaN   NaN   -16.0   NaN   \n",
            "Germany                        NaN   NaN   NaN     NaN   NaN     2.0   NaN   \n",
            "Greece                         NaN   NaN   NaN     NaN   NaN     NaN   NaN   \n",
            "Iceland                        NaN   NaN   NaN     NaN   NaN     NaN   NaN   \n",
            "Israel                         NaN   NaN   NaN     NaN   NaN     NaN   NaN   \n",
            "Italy                          NaN   NaN   NaN    -1.0   NaN    -1.0   NaN   \n",
            "Japan                          NaN   NaN   NaN     NaN   NaN    -3.0   NaN   \n",
            "Lebanon                        NaN   NaN   NaN     NaN   NaN     NaN   NaN   \n",
            "Lithuania                      NaN   NaN   NaN     NaN   NaN     NaN   NaN   \n",
            "Malta                          NaN   NaN   NaN     NaN   NaN     NaN   NaN   \n",
            "Netherlands                    NaN   NaN   NaN    -1.0   NaN  -480.0   NaN   \n",
            "Norway                         NaN   NaN   NaN     NaN   NaN     0.0   NaN   \n",
            "Poland                         NaN   NaN   NaN     NaN   NaN     NaN   NaN   \n",
            "Portugal                       NaN   NaN   NaN     NaN   NaN     1.0   NaN   \n",
            "RSA                            NaN   NaN   NaN     NaN   NaN     1.0   NaN   \n",
            "Saudi Arabia                   NaN   NaN   NaN     NaN   NaN     NaN   NaN   \n",
            "Singapore                      NaN   NaN   NaN     NaN   NaN     0.0   NaN   \n",
            "Spain                          NaN   NaN   NaN     NaN   NaN    -3.0   NaN   \n",
            "Sweden                         NaN   NaN   NaN     NaN   NaN     1.0   NaN   \n",
            "Switzerland                    NaN   NaN   NaN     NaN   NaN     NaN   NaN   \n",
            "USA                            NaN   NaN   NaN     NaN   NaN     NaN   NaN   \n",
            "United Arab Emirates           NaN   NaN   NaN     NaN   NaN     NaN   NaN   \n",
            "United Kingdom                12.0  30.0 -16.0 -1191.0  16.0  3681.0   4.0   \n",
            "Unspecified                    NaN   NaN   NaN     NaN   NaN     NaN   NaN   \n",
            "\n",
            "StockCode               POST  \n",
            "Country                       \n",
            "Australia                0.0  \n",
            "Austria                 37.0  \n",
            "Bahrain                  NaN  \n",
            "Belgium                272.0  \n",
            "Brazil                   NaN  \n",
            "Canada                   1.0  \n",
            "Channel Islands          NaN  \n",
            "Cyprus                   1.0  \n",
            "Czech Republic           0.0  \n",
            "Denmark                 41.0  \n",
            "EIRE                     NaN  \n",
            "European Community       9.0  \n",
            "Finland                 89.0  \n",
            "France                 803.0  \n",
            "Germany               1104.0  \n",
            "Greece                   6.0  \n",
            "Iceland                  NaN  \n",
            "Israel                   NaN  \n",
            "Italy                   44.0  \n",
            "Japan                    NaN  \n",
            "Lebanon                  NaN  \n",
            "Lithuania                NaN  \n",
            "Malta                   10.0  \n",
            "Netherlands             99.0  \n",
            "Norway                  57.0  \n",
            "Poland                   9.0  \n",
            "Portugal                97.0  \n",
            "RSA                      NaN  \n",
            "Saudi Arabia             NaN  \n",
            "Singapore                NaN  \n",
            "Spain                  209.0  \n",
            "Sweden                  37.0  \n",
            "Switzerland             97.0  \n",
            "USA                      NaN  \n",
            "United Arab Emirates     1.0  \n",
            "United Kingdom         -21.0  \n",
            "Unspecified              NaN  \n",
            "\n",
            "[37 rows x 3684 columns]\n"
          ]
        }
      ]
    },
    {
      "cell_type": "code",
      "source": [
        "df = pd.DataFrame({\n",
        "    'A': ['foo', 'bar', 'baz'],\n",
        "    'B': [1,2,3],\n",
        "    'C': [4,5,6]\n",
        "})\n",
        "print(df)"
      ],
      "metadata": {
        "id": "NhmMQ4Oh_8vm",
        "colab": {
          "base_uri": "https://localhost:8080/"
        },
        "outputId": "11f583f3-9391-4f4b-f220-8546a348e148",
        "collapsed": true
      },
      "execution_count": null,
      "outputs": [
        {
          "output_type": "stream",
          "name": "stdout",
          "text": [
            "     A  B  C\n",
            "0  foo  1  4\n",
            "1  bar  2  5\n",
            "2  baz  3  6\n"
          ]
        }
      ]
    },
    {
      "cell_type": "code",
      "source": [
        "#Transformacion de los indices utilizando el metodo stack (Apilar el DataFrame)\n",
        "df_stacked = df.stack()\n",
        "print(df_stack)"
      ],
      "metadata": {
        "colab": {
          "base_uri": "https://localhost:8080/"
        },
        "collapsed": true,
        "id": "gMQj7rLozZBJ",
        "outputId": "28ab2f1c-8ff3-4099-940f-0606f12654e0"
      },
      "execution_count": null,
      "outputs": [
        {
          "output_type": "stream",
          "name": "stdout",
          "text": [
            "0  A    foo\n",
            "   B      1\n",
            "   C      4\n",
            "1  A    bar\n",
            "   B      2\n",
            "   C      5\n",
            "2  A    baz\n",
            "   B      3\n",
            "   C      6\n",
            "dtype: object\n"
          ]
        }
      ]
    },
    {
      "cell_type": "code",
      "source": [
        "#Desapilar el DataFrame\n",
        "df_unstaked = df_stacked.unstack()\n",
        "print(df_unstaked)"
      ],
      "metadata": {
        "colab": {
          "base_uri": "https://localhost:8080/"
        },
        "id": "BWLQNb6I0XK2",
        "outputId": "d0104543-b154-46ca-c104-476275055287"
      },
      "execution_count": null,
      "outputs": [
        {
          "output_type": "stream",
          "name": "stdout",
          "text": [
            "     A  B  C\n",
            "0  foo  1  4\n",
            "1  bar  2  5\n",
            "2  baz  3  6\n"
          ]
        }
      ]
    }
  ]
}