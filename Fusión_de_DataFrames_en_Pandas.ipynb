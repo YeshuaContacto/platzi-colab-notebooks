{
  "nbformat": 4,
  "nbformat_minor": 0,
  "metadata": {
    "colab": {
      "provenance": [],
      "authorship_tag": "ABX9TyMSeTdy6r3nrLdFu4HrWhP8",
      "include_colab_link": true
    },
    "kernelspec": {
      "name": "python3",
      "display_name": "Python 3"
    },
    "language_info": {
      "name": "python"
    }
  },
  "cells": [
    {
      "cell_type": "markdown",
      "metadata": {
        "id": "view-in-github",
        "colab_type": "text"
      },
      "source": [
        "<a href=\"https://colab.research.google.com/github/YeshuaContacto/platzi-colab-notebooks/blob/main/Fusi%C3%B3n_de_DataFrames_en_Pandas.ipynb\" target=\"_parent\"><img src=\"https://colab.research.google.com/assets/colab-badge.svg\" alt=\"Open In Colab\"/></a>"
      ]
    },
    {
      "cell_type": "markdown",
      "source": [
        "# **Fusión de DataFrames en Pandas**\n",
        "\n",
        "Conbinar datos de mutiple tablas es una tarea común en el analisis de datos. Pandas proporciona varias funciones potentes para realizar estas conbinaciones de manera eficiente.\n",
        "\n",
        "# Funciones de esta clase:\n",
        "\n",
        "\n",
        "*   Merge\n",
        "*   Concat\n",
        "*   Join\n",
        "\n"
      ],
      "metadata": {
        "id": "VsBS73fN1Wy8"
      }
    },
    {
      "cell_type": "code",
      "source": [
        "#DataFrames de ejemplo\n",
        "import pandas as pd\n",
        "\n",
        "df1 = pd.DataFrame({\n",
        "    'key': ['A', 'B', 'C'],\n",
        "    'value': [1, 2, 3]\n",
        "})\n",
        "\n",
        "df2 = pd.DataFrame({\n",
        "    'key': ['B', 'C', 'D'],\n",
        "    'value': [4, 5, 6]\n",
        "})\n",
        "print(df1)\n",
        "print(df2)"
      ],
      "metadata": {
        "colab": {
          "base_uri": "https://localhost:8080/"
        },
        "collapsed": true,
        "id": "TvkJRoUW1ZnJ",
        "outputId": "3ac1fef6-b342-49c0-9a4e-f487856089ee"
      },
      "execution_count": null,
      "outputs": [
        {
          "output_type": "stream",
          "name": "stdout",
          "text": [
            "  key  value\n",
            "0   A      1\n",
            "1   B      2\n",
            "2   C      3\n",
            "  key  value\n",
            "0   B      4\n",
            "1   C      5\n",
            "2   D      6\n"
          ]
        }
      ]
    },
    {
      "cell_type": "code",
      "source": [
        "# Realiza una combinación interna (inner join) de los DataFrames df1 y df2 usando la columna 'key' como referencia\n",
        "inner_merged = pd.merge(df1, df2, on='key', how='inner')\n",
        "print(inner_merged)"
      ],
      "metadata": {
        "colab": {
          "base_uri": "https://localhost:8080/"
        },
        "id": "6uajDxuuBO72",
        "outputId": "ffd2a2c8-1e87-404f-8cf7-e633f1c2d43d"
      },
      "execution_count": null,
      "outputs": [
        {
          "output_type": "stream",
          "name": "stdout",
          "text": [
            "  key  value_x  value_y\n",
            "0   B        2        4\n",
            "1   C        3        5\n"
          ]
        }
      ]
    },
    {
      "cell_type": "code",
      "source": [
        "# Realiza una combinación externa (outer join) de los DataFrames df1 y df2 usando la columna 'key' como referencia\n",
        "outer_merged = pd.merge(df1, df2, on='key', how='outer')\n",
        "print(outer_merged)"
      ],
      "metadata": {
        "colab": {
          "base_uri": "https://localhost:8080/"
        },
        "collapsed": true,
        "id": "uDZxcxssCE2W",
        "outputId": "751e750b-0503-44a7-8013-2aaa76b5c781"
      },
      "execution_count": null,
      "outputs": [
        {
          "output_type": "stream",
          "name": "stdout",
          "text": [
            "  key  value_x  value_y\n",
            "0   A      1.0      NaN\n",
            "1   B      2.0      4.0\n",
            "2   C      3.0      5.0\n",
            "3   D      NaN      6.0\n"
          ]
        }
      ]
    },
    {
      "cell_type": "code",
      "source": [
        "# Realiza una combinación izquierda (left join) de los DataFrames df1 y df2 usando la columna 'key' como referencia\n",
        "left_merged = pd.merge(df1, df2, on='key', how='left')\n",
        "print(left_merged)"
      ],
      "metadata": {
        "colab": {
          "base_uri": "https://localhost:8080/"
        },
        "collapsed": true,
        "id": "LxNaSofgDmjS",
        "outputId": "94e3d267-8899-45a4-c783-51623b63ee81"
      },
      "execution_count": null,
      "outputs": [
        {
          "output_type": "stream",
          "name": "stdout",
          "text": [
            "  key  value_x  value_y\n",
            "0   A        1      NaN\n",
            "1   B        2      4.0\n",
            "2   C        3      5.0\n"
          ]
        }
      ]
    },
    {
      "cell_type": "code",
      "source": [
        "# Realiza una combinación derecha (right join) de los DataFrames df1 y df2 usando la columna 'key' como referencia\n",
        "right_merged = pd.merge(df1, df2, on='key', how='right')\n",
        "print(right_merged)"
      ],
      "metadata": {
        "colab": {
          "base_uri": "https://localhost:8080/"
        },
        "collapsed": true,
        "id": "4vPdBnJvFR2o",
        "outputId": "3fb91f15-67cd-420e-83e9-2b7b2c98ae70"
      },
      "execution_count": null,
      "outputs": [
        {
          "output_type": "stream",
          "name": "stdout",
          "text": [
            "  key  value_x  value_y\n",
            "0   B      2.0        4\n",
            "1   C      3.0        5\n",
            "2   D      NaN        6\n"
          ]
        }
      ]
    },
    {
      "cell_type": "code",
      "source": [
        "#DataFrames de ejemplo\n",
        "df3 = pd.DataFrame({\n",
        "    'A': ['A0', 'A1', 'A2'],\n",
        "    'B': ['B0', 'B1', 'B2']\n",
        "})\n",
        "\n",
        "df4 = pd.DataFrame({\n",
        "    'A': ['A3', 'A4', 'A5'],\n",
        "    'B': ['B3', 'B4', 'B5']\n",
        "})\n",
        "\n",
        "print(df3)\n",
        "print(df4)"
      ],
      "metadata": {
        "colab": {
          "base_uri": "https://localhost:8080/"
        },
        "collapsed": true,
        "id": "HFCRnQAbGLDc",
        "outputId": "2682d64e-867f-4cd3-bfba-8db68c7caa5b"
      },
      "execution_count": null,
      "outputs": [
        {
          "output_type": "stream",
          "name": "stdout",
          "text": [
            "    A   B\n",
            "0  A0  B0\n",
            "1  A1  B1\n",
            "2  A2  B2\n",
            "    A   B\n",
            "0  A3  B3\n",
            "1  A4  B4\n",
            "2  A5  B5\n"
          ]
        }
      ]
    },
    {
      "cell_type": "code",
      "source": [
        "# Realiza una concatenación vertical de los DataFrames df3 y df4 (apila filas de df4 debajo de df3)\n",
        "vertical_concat = pd.concat([df3, df4], axis=0)\n",
        "print(vertical_concat)"
      ],
      "metadata": {
        "colab": {
          "base_uri": "https://localhost:8080/"
        },
        "collapsed": true,
        "id": "i3sh0JkgHwwm",
        "outputId": "07c79475-9180-4aa7-ba6d-b69cc46ded0f"
      },
      "execution_count": null,
      "outputs": [
        {
          "output_type": "stream",
          "name": "stdout",
          "text": [
            "    A   B\n",
            "0  A0  B0\n",
            "1  A1  B1\n",
            "2  A2  B2\n",
            "0  A3  B3\n",
            "1  A4  B4\n",
            "2  A5  B5\n"
          ]
        }
      ]
    },
    {
      "cell_type": "code",
      "source": [
        "# Realiza una concatenación horizontal de los DataFrames df3 y df4 (une columnas de df4 a la derecha de df3)\n",
        "horizontal_concat = pd.concat([df3, df4], axis=1)\n",
        "print(horizontal_concat)"
      ],
      "metadata": {
        "colab": {
          "base_uri": "https://localhost:8080/"
        },
        "collapsed": true,
        "id": "46xJ6bLKIdTX",
        "outputId": "9d12cb04-97dd-4a09-a979-c08f6d0dbb3e"
      },
      "execution_count": null,
      "outputs": [
        {
          "output_type": "stream",
          "name": "stdout",
          "text": [
            "    A   B   A   B\n",
            "0  A0  B0  A3  B3\n",
            "1  A1  B1  A4  B4\n",
            "2  A2  B2  A5  B5\n"
          ]
        }
      ]
    },
    {
      "cell_type": "code",
      "source": [
        "#DataFrames de ejemplo\n",
        "df5 = pd.DataFrame({\n",
        "    'A': ['A0', 'A1', 'A2'],\n",
        "    'B': ['B0', 'B1', 'B2']\n",
        "  },\n",
        "  index = ['K0', 'K1', 'K2']\n",
        ")\n",
        "\n",
        "df6 = pd.DataFrame({\n",
        "    'C': ['C0', 'C1', 'C2'],\n",
        "    'D': ['DO', 'D1', 'D2']\n",
        "  },\n",
        "  index = ['K0', 'K2', 'K3']\n",
        ")\n",
        "\n",
        "print(df5)\n",
        "print(df6)"
      ],
      "metadata": {
        "colab": {
          "base_uri": "https://localhost:8080/"
        },
        "id": "bRCPo1MIJpfa",
        "outputId": "77865a15-e80d-4d8e-fe3d-7f46a10c397d"
      },
      "execution_count": null,
      "outputs": [
        {
          "output_type": "stream",
          "name": "stdout",
          "text": [
            "     A   B\n",
            "K0  A0  B0\n",
            "K1  A1  B1\n",
            "K2  A2  B2\n",
            "     C   D\n",
            "K0  C0  DO\n",
            "K2  C1  D1\n",
            "K3  C2  D2\n"
          ]
        }
      ]
    },
    {
      "cell_type": "code",
      "source": [
        "# Realiza una combinación interna (inner join) de los DataFrames df5 y df6 utilizando sus índices como referencia\n",
        "joined = df5.join(df6, how='inner')\n",
        "print(joined)"
      ],
      "metadata": {
        "colab": {
          "base_uri": "https://localhost:8080/"
        },
        "id": "o3fSBRgHKSDk",
        "outputId": "6c2b9530-01d0-49bd-a896-a42ffa08af65"
      },
      "execution_count": null,
      "outputs": [
        {
          "output_type": "stream",
          "name": "stdout",
          "text": [
            "     A   B   C   D\n",
            "K0  A0  B0  C0  DO\n",
            "K2  A2  B2  C1  D1\n"
          ]
        }
      ]
    }
  ]
}